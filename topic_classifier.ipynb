{
 "cells": [
  {
   "cell_type": "code",
   "execution_count": 6,
   "metadata": {},
   "outputs": [],
   "source": [
    "import torch \n",
    "import lightning as ln\n",
    "import torch.nn as nn \n",
    "import torch.nn.functional as Func \n",
    "import pytorch_lightning as pl \n",
    "from torchtext.data.utils import get_tokenizer\n",
    "from torchtext.vocab import build_vocab_from_iterator\n",
    "from torch.utils.data import Dataset, DataLoader\n",
    "\n",
    "import os\n",
    "import pandas as pd\n",
    "from pandas import DataFrame\n",
    "from sklearn.preprocessing import LabelEncoder\n",
    "from sklearn.model_selection import train_test_split"
   ]
  },
  {
   "cell_type": "code",
   "execution_count": 7,
   "metadata": {},
   "outputs": [],
   "source": [
    "train_path = 'cyberbullying_dataset.csv'\n",
    "dataset = pd.read_csv(train_path)"
   ]
  },
  {
   "cell_type": "code",
   "execution_count": 8,
   "metadata": {},
   "outputs": [
    {
     "name": "stdout",
     "output_type": "stream",
     "text": [
      "cyberbullying_type\n",
      "5    7998\n",
      "0    7992\n",
      "2    7973\n",
      "1    7961\n",
      "3    7945\n",
      "4    7823\n",
      "Name: count, dtype: int64\n",
      "####################\n",
      "<class 'pandas.core.frame.DataFrame'>\n",
      "RangeIndex: 47692 entries, 0 to 47691\n",
      "Data columns (total 2 columns):\n",
      " #   Column              Non-Null Count  Dtype \n",
      "---  ------              --------------  ----- \n",
      " 0   tweet_text          47692 non-null  object\n",
      " 1   cyberbullying_type  47692 non-null  int64 \n",
      "dtypes: int64(1), object(1)\n",
      "memory usage: 745.3+ KB\n",
      "None\n"
     ]
    }
   ],
   "source": [
    "print(dataset['cyberbullying_type'].value_counts())\n",
    "print('#' * 20)\n",
    "print(dataset.info())"
   ]
  },
  {
   "cell_type": "code",
   "execution_count": 9,
   "metadata": {},
   "outputs": [
    {
     "name": "stdout",
     "output_type": "stream",
     "text": [
      "[0 1 2 3 4 5]\n"
     ]
    }
   ],
   "source": [
    "le = LabelEncoder()\n",
    "\n",
    "dataset['cyberbullying_type'] = le.fit_transform(dataset['cyberbullying_type'])\n",
    "classes  = le.classes_\n",
    "\n",
    "print(classes)"
   ]
  },
  {
   "cell_type": "code",
   "execution_count": 10,
   "metadata": {},
   "outputs": [
    {
     "data": {
      "text/plain": [
       "<function torchtext.data.utils._basic_english_normalize(line)>"
      ]
     },
     "execution_count": 10,
     "metadata": {},
     "output_type": "execute_result"
    }
   ],
   "source": [
    "tokenizer = get_tokenizer('basic_english')\n",
    "\n"
   ]
  },
  {
   "cell_type": "code",
   "execution_count": 11,
   "metadata": {},
   "outputs": [],
   "source": [
    "# Accessing the data\n",
    "\n",
    "class TweetDataset(Dataset):\n",
    "    def __init__(self, csv_file, batch_size=32):\n",
    "        super().__init__()\n",
    "        self.csv_file = csv_file\n",
    "        self.batch_size = batch_size\n",
    "        self.tokenizer = get_tokenizer('basic_english')\n",
    "        self.vocab = None\n",
    "\n",
    "    def setup(self, stage=None):\n",
    "        data = pd.read_csv(self.csv_file)\n",
    "        \n",
    "        self.train_data, self.val_data = train_test_split(data, test_size=0.2, random_state=42)\n",
    "        self.test_data = self.val_data\n",
    "\n",
    "        text_iterator = (text for text in self.train_data['tweet_text'])\n",
    "        self.vocab = build_vocab_from_iterator(text_iterator, specials=['<UNK>'])\n",
    "        self.vocab.set_default_index(self.vocab['<UNK>'])\n",
    "        \n",
    "        self.input_size = len(elf.vocab)\n",
    "\n",
    "    def __len__(self):\n",
    "        return len(self.data)\n",
    "\n",
    "    def __getitem__(self, index):\n",
    "        if torch.is_tensor(index):\n",
    "            index = index.tolist()\n",
    "        \n",
    "        sample = self.data.iloc[index]\n",
    "\n",
    "        if self.transform:\n",
    "            sample = self.transform(sample)\n",
    "\n",
    "        sample_dict = sample.to_dict()\n",
    "\n",
    "        if self.transform:\n",
    "            sample_dict = self.transform(sample_dict)\n",
    "\n",
    "        return sample_dict\n",
    "\n",
    "    def train_dataloader(self):\n",
    "        return DataLoader(self.train_data, batch_size=self.batch_size, shuffle=True, collate_fn=self.collate_fn)\n",
    "    \n",
    "    def val_dataloader(self):\n",
    "        return DataLoader(self.val_data, batch_size=self.batch_size, shuffle=False, collate_fn=self.collate_fn)\n",
    "\n",
    "    def test_dataloader(self):\n",
    "        return DataLoader(self.test_data, batch_size=self.batch_size, shuffle=False, collate_fn=self.collate_fn)\n",
    "\n",
    "    def collate_fn(self, batch):\n",
    "        text = [self.vocab(self.tokenizer(row['tweet_text'])) for row in batch]\n",
    "        label = [row['cyberbullying_type'] for row in batch]\n",
    "\n",
    "        return torch.tensor(text), torch.tensor(label)\n"
   ]
  },
  {
   "cell_type": "code",
   "execution_count": 13,
   "metadata": {},
   "outputs": [],
   "source": [
    "# Imports for Pytorch Lightning data loader\n",
    "\n",
    "train_text_data, val_text_data = split_data('cyberbullying_dataset.csv')\n",
    "train_dataloader = DataLoader(train_text_data, batch_size=32, shuffle=True, num_workers=4)"
   ]
  },
  {
   "cell_type": "code",
   "execution_count": null,
   "metadata": {},
   "outputs": [],
   "source": [
    "# class LSTMClassifier(nn.Module):\n",
    "#     def __init__(\n",
    "#         self,\n",
    "#         embedddings: torch.Tensor,\n",
    "#         lstm_hidden_size: int = 128,\n",
    "#         lstm_num_layers: int = 1\n",
    "#     )\n",
    "\n"
   ]
  }
 ],
 "metadata": {
  "kernelspec": {
   "display_name": "cloudspace",
   "language": "python",
   "name": "python3"
  },
  "language_info": {
   "codemirror_mode": {
    "name": "ipython",
    "version": 3
   },
   "file_extension": ".py",
   "mimetype": "text/x-python",
   "name": "python",
   "nbconvert_exporter": "python",
   "pygments_lexer": "ipython3",
   "version": "3.10.10"
  }
 },
 "nbformat": 4,
 "nbformat_minor": 2
}
